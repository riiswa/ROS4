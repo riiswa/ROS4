{
 "cells": [
  {
   "cell_type": "markdown",
   "metadata": {
    "deletable": false,
    "editable": false,
    "run_control": {
     "frozen": true
    }
   },
   "source": [
    "# Introduction à Julia\n",
    "\n",
    "Julia est un langage à la syntaxe proche des langages Python et Mathlab. Il permet d'écrire facilement et rapidement des algorithmes. De plus, il est directement compilé en langage C, ce qui lui permet de s'exécuter très rapidement.\n",
    "\n",
    "Pour plus d'information, vous pouvez consulter les [tutoriels](https://julialang.org/learning/) sur le site de Julialang.\n",
    "\n",
    "## Premiers pas\n",
    "\n",
    "Pour exécuter du code Julia, nous écrirons du code dans une cellule puis exécuterons  ce code. Exécuter le code de la cellule suivante (pour compiler, il faut appuyer sur Ctrl-Enter)."
   ]
  },
  {
   "cell_type": "code",
   "execution_count": null,
   "metadata": {},
   "outputs": [],
   "source": [
    "langage = \"Ju\" * \"lia\"\n",
    "println(langage, \" est un super langage !!!!\")\n",
    "println(\"Même pas de problème avec les accents...\n",
    "Ni même avec les caractères unicode ☺ (ʘ‿ʘ)\")"
   ]
  },
  {
   "cell_type": "markdown",
   "metadata": {
    "deletable": false,
    "editable": false,
    "run_control": {
     "frozen": true
    }
   },
   "source": [
    "## Boucles\n",
    "\n",
    "Les boucles `for` et `while` existent en Julia"
   ]
  },
  {
   "cell_type": "code",
   "execution_count": null,
   "metadata": {},
   "outputs": [],
   "source": [
    "#Avec une boucle for\n",
    "println(\"Avec une boucle for :\")\n",
    "for i = 1:5\n",
    "    println(\"i vaut \", i, \" ! \")\n",
    "end\n",
    "\n",
    "#=\n",
    "        Avec \n",
    "        une \n",
    "        boucle while\n",
    "=#\n",
    "println(\"Avec une boucle while :\")\n",
    "i = 1\n",
    "while i <= 5\n",
    "    println(\"i vaut \", i , \" ! \")\n",
    "    i+=1\n",
    "end"
   ]
  },
  {
   "cell_type": "markdown",
   "metadata": {
    "deletable": false,
    "editable": false,
    "run_control": {
     "frozen": true
    }
   },
   "source": [
    "**Exercice 1 :** Écrire une boucle affichant les carrés des entiers de 5 à 12."
   ]
  },
  {
   "cell_type": "code",
   "execution_count": null,
   "metadata": {
    "tags": [
     "answer"
    ]
   },
   "outputs": [],
   "source": [
    "############################## \n",
    "#   Saisir votre code ici.   #\n",
    "##############################\n",
    "\n",
    "\n"
   ]
  },
  {
   "cell_type": "markdown",
   "metadata": {
    "deletable": false,
    "editable": false,
    "run_control": {
     "frozen": true
    }
   },
   "source": [
    "## Tableaux\n",
    "\n",
    "Les tableaux contiennent que des valeurs de même type (comme en C) et sont **indexés à partir de 1**, pas de 0 (pas du tout comme en C) !"
   ]
  },
  {
   "cell_type": "code",
   "execution_count": null,
   "metadata": {},
   "outputs": [],
   "source": [
    "#Affichage du tableau prénoms\n",
    "prénoms = [\"Alice\", \"Bob\", \"Charlie\"]\n",
    "for p in prénoms\n",
    "    println(p)\n",
    "end\n",
    "\n",
    "nombres = [12, 43, 32, 96, 73, 76]\n",
    "if length(nombres) > 5\n",
    "    println(\"Ce tableau contient plus de 5 nombres\")\n",
    "else\n",
    "    println(\"C'est un petit tableau d'au plus 5 nombres\")\n",
    "end\n",
    "\n",
    "#Parcours du tableau nombres\n",
    "for nb in nombres\n",
    "    println(\"Nombre : \", nb)\n",
    "end\n",
    "\n",
    "#Boucle si l'on a besoin des indices du tableau\n",
    "for i in 1:length(nombres)\n",
    "    println(\"Nombre numéro \", i, \" = \", nombres[i])\n",
    "end"
   ]
  },
  {
   "cell_type": "markdown",
   "metadata": {
    "deletable": false,
    "editable": false,
    "run_control": {
     "frozen": true
    }
   },
   "source": [
    "**Exercice 2 :** Écrire un algorithme à la fin permettant de rechercher dans le tableau `nombres` le plus grand entier."
   ]
  },
  {
   "cell_type": "code",
   "execution_count": null,
   "metadata": {
    "tags": [
     "answer"
    ]
   },
   "outputs": [],
   "source": [
    "############################## \n",
    "#   Saisir votre code ici.   #\n",
    "##############################\n",
    "\n",
    "\n"
   ]
  },
  {
   "cell_type": "markdown",
   "metadata": {
    "deletable": false,
    "editable": false,
    "run_control": {
     "frozen": true
    }
   },
   "source": [
    "## Fonctions\n",
    "\n",
    "Voici quelques exemples de fonctions illustrant les propriétés des fonctions dans le langage Julia."
   ]
  },
  {
   "cell_type": "code",
   "execution_count": null,
   "metadata": {},
   "outputs": [],
   "source": [
    "# Fonction retournant x²-1\n",
    "function carreMoinsUn(x)\n",
    "    return x^2 - 1\n",
    "end\n",
    "println(\"carreMoinsUn(3) = \", carreMoinsUn(3))\n",
    "\n",
    "function modifiePasInt(x)\n",
    "    x = x+1\n",
    "end\n",
    "\n",
    "a = 12\n",
    "modifiePasInt(a)\n",
    "println(\"valeur de a après appel de la fonction modifie = \", a)\n",
    "\n",
    "function modifieTab(tab)\n",
    "    push!(tab,12)\n",
    "end\n",
    "t = [23, 34, 45]\n",
    "modifieTab(t)\n",
    "println(\"t = \", t)\n",
    "\n",
    "function valeursRetour(x,y)\n",
    "    return x+y, x-y, x*y, x/y\n",
    "end\n",
    "\n",
    "add, sous, mult, divi = valeursRetour(1,2)\n",
    "println(\"1+2 = \", add, \"\\n1-2 = \", sous, \"\\n1*2 = $mult \\n1/2 = $(divi)\")"
   ]
  },
  {
   "cell_type": "markdown",
   "metadata": {
    "deletable": false,
    "editable": false,
    "run_control": {
     "frozen": true
    }
   },
   "source": [
    "**Exercice 3 :** Définir à la suite une fonction maxiTab prenant en paramètre un tableau et retournant la valeur maximum de ce tableau. Appeler cette fonction avec le tableau `nombres` défini précédemment."
   ]
  },
  {
   "cell_type": "code",
   "execution_count": null,
   "metadata": {
    "tags": [
     "answer"
    ]
   },
   "outputs": [],
   "source": [
    "############################## \n",
    "#   Saisir votre code ici.   #\n",
    "##############################\n",
    "\n",
    "\n"
   ]
  },
  {
   "cell_type": "markdown",
   "metadata": {
    "deletable": false,
    "editable": false,
    "run_control": {
     "frozen": true
    }
   },
   "source": [
    "## Dictionnaires\n",
    "\n",
    "Les dictionnaires en Julia sont une structure de données correspondant à une [table de hashage](https://www.wikiwand.com/fr/Table_de_hachage) ou un tableau associatif (comme en PHP). "
   ]
  },
  {
   "cell_type": "code",
   "execution_count": null,
   "metadata": {},
   "outputs": [],
   "source": [
    "#Les clés peuvent être des entiers, des flottants ou des chaînes de caractères\n",
    "dico = Dict(\"clé\" => 23, 45 => \"valeur\", 1 => 3, \"chat\" => \"miaou\")\n",
    "\n",
    "#Ajout d'un couple clé => valeur\n",
    "dico[\"bon\"] = \"jour\"\n",
    "\n",
    "#Modification de la valeur associée à la clé \"clé\"\n",
    "dico[\"clé\"] = \"vv\"\n",
    "\n",
    "#Suppression du couple chat/miaou\n",
    "delete!(dico, \"chat\")\n",
    "\n",
    "#Affichage des couples clés/valeurs\n",
    "println(\"Liste des couples clés/valeurs :\")\n",
    "for (c,v) in dico\n",
    "    println(\"\\t\", c, \" => \", v)\n",
    "end\n",
    "\n",
    "#Test de l'existence d'une clé\n",
    "if haskey(dico, \"clé\")\n",
    "    println(\"clé est une clé !!!\")\n",
    "else\n",
    "    printn(\"clé n'est pas une clé !!!\")\n",
    "end"
   ]
  }
 ],
 "metadata": {
  "@webio": {
   "lastCommId": "bf49703ecfbc404b83d49003de5c8d6a",
   "lastKernelId": "b0e71743-afc3-4fe1-ae40-26f144bf2b98"
  },
  "kernelspec": {
   "display_name": "Julia 1.2.0",
   "language": "julia",
   "name": "julia-1.2"
  },
  "language_info": {
   "file_extension": ".jl",
   "mimetype": "application/julia",
   "name": "julia",
   "version": "1.2.0"
  },
  "toc": {
   "base_numbering": 1,
   "nav_menu": {},
   "number_sections": true,
   "sideBar": true,
   "skip_h1_title": true,
   "title_cell": "Table des matières",
   "title_sidebar": "Table des matières",
   "toc_cell": false,
   "toc_position": {},
   "toc_section_display": true,
   "toc_window_display": false
  },
  "varInspector": {
   "cols": {
    "lenName": 16,
    "lenType": 16,
    "lenVar": 40
   },
   "kernels_config": {
    "python": {
     "delete_cmd_postfix": "",
     "delete_cmd_prefix": "del ",
     "library": "var_list.py",
     "varRefreshCmd": "print(var_dic_list())"
    },
    "r": {
     "delete_cmd_postfix": ") ",
     "delete_cmd_prefix": "rm(",
     "library": "var_list.r",
     "varRefreshCmd": "cat(var_dic_list()) "
    }
   },
   "types_to_exclude": [
    "module",
    "function",
    "builtin_function_or_method",
    "instance",
    "_Feature"
   ],
   "window_display": false
  }
 },
 "nbformat": 4,
 "nbformat_minor": 2
}
