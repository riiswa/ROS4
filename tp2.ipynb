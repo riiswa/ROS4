{
 "cells": [
  {
   "cell_type": "markdown",
   "metadata": {
    "deletable": false,
    "editable": false,
    "run_control": {
     "frozen": true
    }
   },
   "source": [
    "# Modèles algébriques"
   ]
  },
  {
   "cell_type": "code",
   "execution_count": null,
   "metadata": {},
   "outputs": [],
   "source": [
    "# Librairies à importer pour utiliser JuMP avec le solver GLPK\n",
    "using JuMP\n",
    "using GLPK\n",
    "\n",
    "# Définition de constantes pour le statut de résolution du problème\n",
    "const OPTIMAL = JuMP.MathOptInterface.OPTIMAL\n",
    "const INFEASIBLE = JuMP.MathOptInterface.INFEASIBLE\n",
    "const UNBOUNDED = JuMP.MathOptInterface.DUAL_INFEASIBLE;"
   ]
  },
  {
   "cell_type": "markdown",
   "metadata": {
    "deletable": false,
    "editable": false,
    "run_control": {
     "frozen": true
    }
   },
   "source": [
    "Il est possible avec le package JuMP de modéliser des problèmes d'optimisation linéaire sans écrire explicitement les variables et les contraintes.\n",
    "\n",
    "Reprenons l'exemple des yaourts vu en cours.\n",
    "\n",
    "\n",
    ">Une entreprise de fabrication de yaourts souhaite produire des yaourts à la fraise. Il lui est possible de fabriquer deux types de yaourts à la fraise : allégé et normal. La fabrication d’un litre de chaque type de yaourt nécessite différentes matières premières : produire un litre de yaourt allégé nécessite 2 kilos de fraises\n",
    "et 1 litre de lait, alors que la production d’un litre de yaourt normal nécessite 1 kilo de fraises, 2 litres de lait et 1 kilo de sucre. Un litre de yaourt allégé peut être vendu 40 euros alors qu’un litre de yaourt normal peut être vendu 50\n",
    "euros. \n",
    "\n",
    ">Étant donné que l’entreprise possède 800 kilos de fraises, 700 litres de lait et 300 kilos de sucre, combien\n",
    "de litres de yaourt allégé et normal doit-elle fabriquer pour maximiser son revenu ?\n",
    "\n",
    "Ce problème linéaire peut se modéliser sous la forme suivante."
   ]
  },
  {
   "cell_type": "code",
   "execution_count": null,
   "metadata": {},
   "outputs": [],
   "source": [
    "# Création d'un modèle. Ce modèle fera l'interface avec le solveur GLPK\n",
    "m = Model(with_optimizer(GLPK.Optimizer))\n",
    "\n",
    "#Variable représentant la quantité en litre de yaourt allégé\n",
    "@variable(m, xA >= 0)\n",
    "\n",
    "#Variable représentant la quantité en litre de yaourt \"normal\"\n",
    "@variable(m, xN >= 0)\n",
    "\n",
    "#Maximiser les revenus de la vente\n",
    "@objective(m, Max, 40xA + 50xN)\n",
    "\n",
    "#Contrainte liée à la quantité de fraise disponible\n",
    "@constraint(m, 2xA + xN <= 800)\n",
    "\n",
    "#Contrainte liée à la quantité de Lait disponible\n",
    "@constraint(m, xA + 2xN <= 700)\n",
    "\n",
    "#Contrainte liée à la quantité de sucre disponible\n",
    "@constraint(m, xN <= 300)\n",
    "\n",
    "#Affichage du modèle\n",
    "print(m)\n",
    "\n",
    "#Résolution du problème d'optimisation linéaire m par le solveur GLPK\n",
    "optimize!(m)\n",
    "\n",
    "\n",
    "println(\"Optimum = \", JuMP.objective_value(m))\n",
    "println(\"Fabrication optimale :\")\n",
    "println(\"Yaourt allégé (en L) = \", JuMP.value(xA))\n",
    "println(\"Yaourt \\\"normal\\\" = \", JuMP.value(xN))\n"
   ]
  },
  {
   "cell_type": "markdown",
   "metadata": {
    "deletable": false,
    "editable": false,
    "run_control": {
     "frozen": true
    }
   },
   "source": [
    "Ce modèle ne prend en compte que deux types de yaourts. Il est possible de généraliser ce problème à plus de types de yaourts et plus de ressources.\n",
    "Supposons que l'on puisse fabriquer 12 types de yaourts grâce à 7 ressources disponibles. Les quantités de ressources nécessaires pour fabriquer chaque type de yaourts sont données dans le tableau suivant.\n",
    "\n",
    "\n",
    "| Yaourts / Ressources  | Fraise         | Framboise  | Mûres      | Vanille    | Lait       | Sucre      | Édulcorant |\n",
    "| -------------         | -------------: | ---------: | ---------: | ---------: | ---------: | ---------: | ---------: |\n",
    "| Fraise                | 1 kg/L         | 0 kg/L     | 0 kg/L     | 0 kg/L     | 2 L/L     | 1 kg/L     | 0 kg/L     |\n",
    "| Fraise allégé         | 2 kg/L        | 0  kg/L    | 0 kg/L     | 0 kg/L     | 4 L/L     | 0 kg/L     | 3 kg/L     |\n",
    "| Vanille/Fraise        | 2 kg/L         | 0 kg/L     | 0 kg/L     | 2 kg/L     | 5 L/L     | 1 kg/L     | 0 kg/L     |\n",
    "| Framboise             | 0 kg/L         | 3 kg/L     | 0 kg/L     | 5 kg/L     | 3 L/L     | 4 kg/L     | 0 kg/L     |\n",
    "| Framboise allégé      | 0 kg/L         | 2 kg/L     | 0 kg/L     | 0 kg/L     | 4 L/L     | 0 kg/L     | 2 kg/L     |\n",
    "| Vanille/Framboise     | 0 kg/L         | 2  kg/L    | 0 kg/L     | 2 kg/L     | 2 L/L     | 2 kg/L     | 0 kg/L     |\n",
    "| Mûres                 | 0 kg/L         | 0 kg/L     | 2 kg/L     | 0 kg/L     | 8 L/L     | 2 kg/L     | 0 kg/L     |\n",
    "| Mûres allégées        | 0 kg/L         | 0 kg/L     | 3 kg/L     | 0 kg/L     | 7 L/L     | 0 kg/L     | 1 kg/L     |\n",
    "| Vanille/Mûres         | 0 kg/L         | 0 kg/L     | 3 kg/L     | 3 kg/L     | 6 L/L     | 2 kg/L     | 0 kg/L     |\n",
    "| Fruits rouges         | 1 kg/L         | 2 kg/L     | 2 kg/L     | 1 kg/L     | 3 L/L     | 4 kg/L     | 0 kg/L     |\n",
    "| Fruits rouges allégé  | 2 kg/L         | 1 kg/L     | 2 kg/L     | 0 kg/L     | 2 L/L     | 2 kg/L     | 1 kg/L     |\n",
    "| Vanille/Fruits rouges | 1 kg/L         | 1 kg/L     | 1 kg/L     | 3 kg/L     | 3 L/L     | 1 kg/L     | 1 kg/L     |\n",
    "\n",
    "\n",
    "On connaît également les prix de vente de chaque yaourt et la quantité disponible pour chaque ressource.\n",
    "\n",
    "| Type de yaourt        | Prix de vente |\n",
    "| -------------         | ---------:    |\n",
    "| Fraise                | 50 &euro;/L   |\n",
    "| Fraise allégé         | 40 &euro;/L   |\n",
    "| Vanille/Fraise        | 65 &euro;/L   |\n",
    "| Framboise             | 47 &euro;/L   |\n",
    "| Framboise allégé      | 52 &euro;/L   |\n",
    "| Vanille/Framboise     | 46 &euro;/L   |\n",
    "| Mûres                 | 78 &euro;/L   |\n",
    "| Mûres allégées        | 75 &euro;/L   |\n",
    "| Vanille/Mûres         | 83 &euro;/L   |\n",
    "| Fruits rouges         | 59 &euro;/L   |\n",
    "| Fruits rouges allégé  | 67 &euro;/L   |\n",
    "| Vanille/Fruits rouges | 86 &euro;/L   |\n",
    "\n",
    "\n",
    "| Ressource | Quantité disponible |\n",
    "| -------------  | ---------:          |\n",
    "| Fraise         | 800 kg              |\n",
    "| Framboise      | 200 kg              |\n",
    "| Mûres          | 150 kg              |\n",
    "| Vanille        | 80 kg               |\n",
    "| Lait           | 700 L               |\n",
    "| Sucre          | 350 kg              |\n",
    "| Édulcorant     | 150 kg              |\n",
    "\n",
    "\n",
    "Il est donc possible d'écrire le problème d'optimisation linéaire associé. Cependant, ce dernier aura 12 variables et 7 contraintes. Si l'on ajoute aussi des yaourts qui ne sont pas aux fruits, on peut alors avoir un problème d'optimisation linéaire contenant plusieurs centaines de contraintes et/ou variables. Il n'est donc plus possible d'écrire le problème de manière explicite.\n",
    "\n",
    "\n",
    "## Formulation algébrique\n",
    "\n",
    "\n",
    "Le package JuMP permet d'écrire le modèle sous forme algébrique. \n",
    "\n",
    "### Intérêts\n",
    "\n",
    "La formulation algébrique présente deux intérêts :\n",
    "\n",
    "* Il est possible d'écrire des **problèmes d'optimisation avec beaucoup de variables et/ou de contraintes** puisque l'on n'écrit plus explicitement les variables et les contraintes. Par exemple, dans le problème ci-dessus, nous allons expliquer qu'il existe une contrainte pour chaque type de ressource et qu'elles ont toutes la même forme. Ainsi, les 7 contraintes seront résumées en une seule.\n",
    "\n",
    "* **La formulation algébrique permet de séparer le modèle des données**. Ceci permet alors d'écrire une seule fois le modèle algébrique et de l'exécuter avec différentes données (la personne n'a même pas besoin de comprendre le modèle algébrique pour l'utiliser, il lui suffit de \"saisir\" les données). Ces données peuvent même se trouver dans des fichiers texte par exemple (une étape de lecture des des données pour initialiser les variables est alors nécessaire).\n",
    "\n",
    "\n",
    "\n",
    "### Comment écrire une formulation algébrique ?\n",
    "\n",
    "Nous montrons comment faire en expliquant la formulation algébrique sur le problème des yaourts. \n",
    "\n",
    "Numérotons les types de yaourts de 1 à 12 (Yaourt 1 est le yaourt à la fraise).\n",
    "Les douze variables nécessaires peuvent être stockées dans un tableau de variables appelé `x`. Ainsi, `x[j]` va être la variable correspondant à la quantité fabriquée de yaourt de type `j` (`x[1]` représentera la quantité de yaourt à la fraise fabriqué).\n",
    "\n",
    "Si les prix de vente sont stockés dans un tableau `v` tel que `v[j]` est le prix de vente au litre du yaourt de type `j`, alors la fonction objective est : \n",
    "\n",
    "`Max v[1] * x[1] + v[2] * x[2] + ... + v[12] * x[12]`\n",
    "\n",
    "Mathématiquement, cela revient à écrire : $\\sum_{j = 1}^{12} v[j]*x[j]$.\n",
    "Il est possible d'écrire avec JuMP cette expression sous la forme :\n",
    "\n",
    "`sum(v[j]*x[j] for j = 1:12)`\n",
    "\n",
    "\n",
    "De la même manière, supposons que les quantités nécessaires pour produire chaque type de yaourt soient stockées dans une matrice `r` telle que `r[i,j]` représente la quantité de ressource `i` nécessaire pour produire un litre de yaourt de type `j`.\n",
    "La contrainte liée à la quantité de fraise disponible est : \n",
    "\n",
    "`sum(r[1,j]*x[j] for j=1:12) <= 800`\n",
    "\n",
    "On peut écrire une contrainte similaire pour chaque ressource de type `i`. Le modèle s'écrit alors sous forme algébrique de la manière suivante."
   ]
  },
  {
   "cell_type": "code",
   "execution_count": null,
   "metadata": {},
   "outputs": [],
   "source": [
    "#=\n",
    "    DONNÉES NÉCESSAIRES POUR LE PROBLÈME\n",
    " =#\n",
    "\n",
    "#Prix de vente de chaque type de ressource\n",
    "v = [50, 40, 65, 47, 52, 46, 78, 75, 83, 59, 67, 86]\n",
    "\n",
    "#Quantité de chaque ressource\n",
    "R = [800, 200, 150, 80, 700, 350, 150]\n",
    "\n",
    "#Quantités de ressources pour les différents types de yaourt\n",
    "# r[i,j] : quantité de ressource i pour fabriquer un litre de yaourt de type j\n",
    "r = [\n",
    "1  2  2  0  0  0  0  0  0  1  2  1;\n",
    "0  0  0  3  2  2  0  0  0  2  1  1;\n",
    "0  0  0  0  0  0  2  3  3  2  2  1;\n",
    "0  0  2  5  0  2  0  0  3  1  0  3;\n",
    "2  4  5  3  4  2  8  7  6  3  2  3;\n",
    "1  0  1  4  0  2  2  0  2  4  2  1;\n",
    "0  3  0  0  2  0  0  1  0  0  1  1;  \n",
    "]\n",
    "\n",
    "#=\n",
    "    MODÈLE\n",
    "=#\n",
    "\n",
    "\n",
    "#Création d'un modèle. Ce modèle fera l'interface avec le solveur GLPK\n",
    "m = Model(with_optimizer(GLPK.Optimizer))\n",
    "\n",
    "#Nombre de variables\n",
    "n = length(v)\n",
    "\n",
    "#Création d'un tableau de n variables continues positives ou nulles.\n",
    "@variable(m, x[1:n] >= 0 )\n",
    "\n",
    "#Création de la fonction objective du modèle\n",
    "@objective(m, Max, sum(v[j] * x[j] for j=1:n) )\n",
    "\n",
    "#Ajout de 7 contraintes (une par ressource) dans le modèle\n",
    "for i in 1:length(R)\n",
    "    #Contrainte liée à la quantité disponible de ressource numéro i\n",
    "    @constraint(m, sum(r[i,j] * x[j] for j=1:n) <= R[i] )\n",
    "end\n",
    "\n",
    "#Écriture plus compacte :\n",
    "#@constraint(m,[i=1:length(R)], sum(r[i,j] * x[j] for j=1:n) <= R[i] )\n",
    "\n",
    "#Affichage du modèle\n",
    "#print(m)\n",
    "\n",
    "#Résolution du problème d'optimisation linéaire m par le solveur GLPK\n",
    "optimize!(m)\n",
    "\n",
    "status = termination_status(m)\n",
    "\n",
    "if status == INFEASIBLE\n",
    "    println(\"Le problème n'est pas réalisable\")\n",
    "elseif status == UNBOUNDED\n",
    "    println(\"Le problème est non borné\")\n",
    "elseif status == MOI.OPTIMAL\n",
    "    println(\"Optimum = \", objective_value(m))\n",
    "    #On récupère le vecteur des valeurs des variables à l'optimum\n",
    "    solution = value.(x)  # Attention au value. pour broadcaster (appliquer value à toutes les composantes de x)\n",
    "    println(\"Solution optimale :\")\n",
    "    for j = 1:n #Pour chaque variable\n",
    "        println(\"\\t x[$j] = \", solution[j]) #On affiche sa valeur\n",
    "    end\n",
    "else\n",
    "    println(\"Problème lors de la résolution\")\n",
    "end"
   ]
  },
  {
   "cell_type": "markdown",
   "metadata": {
    "deletable": false,
    "editable": false,
    "run_control": {
     "frozen": true
    }
   },
   "source": [
    "### Questions\n",
    "\n",
    "* Quelle quantité de chaque yaourt faut-il faire pour maximiser le prix de vente ?\n",
    "* Mauvaise surprise, 100 L de lait ont tourné et doivent donc être jetés. Cela modifie-t-il le plan de production ? Quelle est la perte associée ?\n",
    "* Le problème est plus grave que prévu. En fait, 500 L de lait (et non 100) doivent être jetés. Cela modifie-t-il le plan de production ? Quelle est la perte associée ?\n",
    "* L'entreprise envisage aussi la possibilité de fabriquer un yaourt à la vanille. Celui-ci serait vendu 68 &euro; le litre. La fabrication d'un litre de ce yaourt nécessiterait 3kg de Vanille, 3 litres de lait et 3 litres de sucre. Est-ce intéressant de produire ce yaourt ?"
   ]
  },
  {
   "cell_type": "markdown",
   "metadata": {
    "deletable": false,
    "editable": false,
    "run_control": {
     "frozen": true
    },
    "tags": [
     "comment"
    ]
   },
   "source": [
    "Étienne commence sa préparation en vue de courrir un marathon. Pour se préparer, il doit suivre un régime particulier pour assurer ses besoins quotidiens en énergie (200kcal), protéïnes (55g) et lipides (800mg). Il peut sélectionner parmi les aliments suivants :\n",
    "\n",
    "\n",
    "\n",
    "| Plats            | Énergie (kcal) | Protéïnes (g)| Lipides (mg) |\n",
    "| -------          | -----          | ---          | ------------ |\n",
    "| Pâtes bolognaise | 450            | 11           | 2          |\n",
    "| Omelette fromage | 205            |  8           | 48          |\n",
    "| Salade César     | 160            | 13           | 54          |\n",
    "| Hamburger        | 230            | 28           | 285          |\n",
    "| Curry Légumes    | 420            |  6           | 320          |\n",
    "| Couscous royal   | 360            | 18           | 40          |\n",
    "\n",
    "\n",
    "\n"
   ]
  },
  {
   "cell_type": "markdown",
   "metadata": {
    "deletable": false,
    "editable": false,
    "run_control": {
     "frozen": true
    }
   },
   "source": [
    "## Exercice 1\n",
    "\n",
    "\n",
    "Une entreprise d'électricité doit fournir de l’électricité pour les villes de Villetaneuse, Épinay et Saint-Denis. La puissance nécessaire d'électricité pour chaque ville est respectivement de 3000, 6000 et 5000 GW. Pour produire cette électricité, l’entreprise dispose de trois centrales électriques C1, C2 et C3. Le coût de production et d’acheminement de l’électricité en fonction des villes et des centrales (en &euro; par GW) est récapitulée dans le tableau suivant.\n",
    "\n",
    "\n",
    "\n",
    "| Centrales | Villetaneuse | Épinay | Saint-Denis |\n",
    "| ------- | -----        | ---    | ------------|\n",
    "| C1      | 80           | 100    | 120         |\n",
    "| C2      | 20           | 30     | 40          |\n",
    "| C3      | 40           | 60     | 80          |\n",
    "\n",
    "\n",
    "De plus, chaque centrale possède une puissance limitée. Cette limite est respectivement de 9000, 6000 et 7000 GW. L’entreprise souhaite déterminer la production d’électricité par centrale ainsi que la répartition de la production en fonction des trois villes de telle manière que le coût soit minimal. \n",
    "\n",
    "### Question 1\n",
    "Formuler ce problème comme un problème linéaire.\n",
    "\n",
    "### Question 2\n",
    "\n",
    "Formuler ce problème sous forme algébrique.\n",
    "\n",
    "### Question 3\n",
    "\n",
    "Modifier uniquement les données en ajoutant une quatrième centrale de puissance maximum 3000 GW. Cette centrale peut délivrer l'électricité aux villes selon les coûts : \n",
    "\n",
    "|Villetaneuse | Épinay | Saint-Denis|\n",
    "| -----        | ---    | ------------|\n",
    "|10           | 20    | 15         |\n",
    "\n",
    "Cela change-t-il la solution ?"
   ]
  },
  {
   "cell_type": "code",
   "execution_count": null,
   "metadata": {
    "collapsed": true
   },
   "outputs": [],
   "source": [
    "using JuMP\n",
    "using GLPK\n",
    "\n",
    "#= \n",
    " DONNÉES\n",
    "=#\n",
    "Centrales = [\"C1\", \"C2\", \"C3\"]\n",
    "Puissances_max = [9000, 6000, 7000]\n",
    "\n",
    "Villes = [\"Villetaneuse\", \"Épinay\", \"Saint-Denis\"]\n",
    "Demandes = [3000, 6000, 5000]\n",
    "\n",
    "Coûts = [\n",
    "    80 100 120;\n",
    "    20  30  40;\n",
    "    40  60  80\n",
    "]\n",
    "\n",
    "#Affichage des données\n",
    "for i in 1:length(Centrales)\n",
    "    println(\"Centrale \", Centrales[i], \", puissance maximum = \", Puissances_max[i])\n",
    "end\n",
    "\n",
    "for j in 1:length(Villes)\n",
    "    println(\"Ville \", Villes[j], \", demande = \", Demandes[j])\n",
    "end\n",
    "for i in 1:3, j in 1:3\n",
    "    println(\"Coût de \", Centrales[i], \" à \", Villes[j], \" = \", Coûts[i,j])\n",
    "end\n",
    "\n",
    "#= \n",
    "    ÉCRIRE LE MODÈLE ICI. \n",
    "    IL DOIT ETRE VALIDE QUELLES QUE SOIENT LES DONNÉES DÉFINIES PRÉCÉDEMMENT.\n",
    "=#"
   ]
  },
  {
   "cell_type": "markdown",
   "metadata": {
    "deletable": false,
    "editable": false,
    "run_control": {
     "frozen": true
    }
   },
   "source": [
    "## Exercice 2 : Epin&Drink&reg;\n",
    "\n",
    "Une entreprise d'Épinay souhaite lancer en 2019 une nouvelle boisson nommée **Epin&Drink&reg;**. Le service commercial a réalisé une étude et ses prévisions de vente en hectolitres (hl) pour chaque mois de l'année 2019 sont données dans le tableau suivant :\n",
    "\n",
    "|Mois | Janvier | Février | Mars | Avril | Mai | Juin | Juillet | Août | Septembre | Octobre | Novembre | Décembre|\n",
    "|--- | --- | --- | --- | --- | --- | --- | --- | --- | --- | --- | --- | ---|\n",
    "| Volumes (hl) | 200 | 180 | 210 | 178 | 247 | 302 | 354 | 398 | 253 | 265 | 264 | 299|\n",
    "\n",
    "\n",
    "Le coût de fabrication d'un hectolitre d'**Epin&Drink&reg;** varie tous les mois (suivant les équipes et les autres produits fabriqués par cette entreprise). Les estimations de ce coût sont donnés dans le tableau suivant :\n",
    "\n",
    "| Janvier | Février | Mars | Avril | Mai | Juin | Juillet | Août | Septembre | Octobre | Novembre | Décembre|\n",
    "|--- | --- | --- | --- | --- | --- | --- | --- | --- | --- | --- | --- |\n",
    "| 54 | 63 | 32 | 55 | 96 | 24 | 46 | 94 | 116 | 87 | 75 | 73 |\n",
    "\n",
    "Afin de satisfaire la demande et d'optimiser ses coûts de fabrication, l'entreprise peut stocker chaque mois une quantité de boisson pour la vendre plus tard (il n'y a aucun problème de date de péremption). Ce stockage coûte 40 &euro;/hectolitre/mois. La boison fabriquée et vendue le même mois n'a pas besoin d'être stockée.\n",
    "\n",
    "L'entreprise ayant déjà réalisé un test de production, elle possède 50 hectolitres de boisson au début du mois de janvier. De plus, elle peut au maximum produire 350 hectolitres et stocker 250 hectolitres chaque mois.\n",
    "\n",
    "En tant qu'informaticien de cette entreprise, vous devez déterminer le plan de production de l'année 2019. Cette production doit permettre chaque mois de vendre le volume **Epin&Drink&reg;** prévu et le coût de cette production doit être minimum.\n",
    "Quel est le coût total de fabrication/stockage sur l'année ?"
   ]
  },
  {
   "cell_type": "code",
   "execution_count": null,
   "metadata": {
    "collapsed": true
   },
   "outputs": [],
   "source": [
    "using JuMP\n",
    "using GLPK\n",
    "\n",
    "#= \n",
    " DONNÉES\n",
    "=#\n",
    "\n",
    "#Volume des ventes\n",
    "ventes = [200, 180, 210, 178, 247, 302, 354, 398, 253, 265, 264, 299]\n",
    "\n",
    "c_prod = [54, 63, 32, 55, 96, 24, 46, 94, 116, 87, 75, 73]\n",
    "\n",
    "c_stock = 40\n",
    "\n",
    "s_deb = 50\n",
    "\n",
    "prod_max = 350\n",
    "\n",
    "stock_max = 250\n",
    "\n",
    "#=\n",
    "    MODÈLE\n",
    "=#\n"
   ]
  },
  {
   "cell_type": "markdown",
   "metadata": {
    "deletable": false,
    "editable": false,
    "run_control": {
     "frozen": true
    }
   },
   "source": [
    "## Exercice 3 Epin&Drink&reg;Max&trade;\n",
    "\n",
    "\n",
    "L'entreprise d'Épinay souhaite également commercialiser en 2019 une deuxième boisson  : **Epin&Drink&reg;Max&trade;**. Les prévisions de volumes de vente pour l'année sont : \n",
    "\n",
    "|Mois | Janvier | Février | Mars | Avril | Mai | Juin | Juillet | Août | Septembre | Octobre | Novembre | Décembre|\n",
    "|--- | --- | --- | --- | --- | --- | --- | --- | --- | --- | --- | --- | ---|\n",
    "| Volumes (hl) | 78 | 192 | 143 | 99 | 245 | 423 | 229 | 182 | 118 | 92 | 103 | 127|\n",
    "\n",
    "Pour cela, l'entreprise augmente sa capacité de production et de stockage à 700 hl et 900 hl par mois. Les coûts de fabrication et de stockage sont les mêmes pour les deux boissons.\n",
    "\n",
    "Quel est le plan de production de l'année 2019 pour les deux boissons ?\n",
    "\n",
    "Pour des raisons d'approvisionnement, pour chaque boisson, la production sur 3 mois consécutifs ne doit pas dépasser 1000hl. Cela modifie-t-il la solution ?\n"
   ]
  },
  {
   "cell_type": "code",
   "execution_count": null,
   "metadata": {
    "collapsed": true
   },
   "outputs": [],
   "source": [
    "using JuMP\n",
    "using GLPK\n",
    "\n",
    "#= \n",
    " DONNÉES\n",
    "=#\n",
    "\n",
    "#Volume des ventes\n",
    "ventes_drink = [200, 180, 210, 178, 247, 302, 354, 398, 253, 265, 264, 299]\n",
    "ventes_max = [78, 192, 143, 99, 245, 423, 229, 182, 118, 92, 103, 127]\n",
    "coûts = [54, 63, 32, 55, 96, 24, 46, 94, 116, 87, 75, 73]\n",
    "\n",
    "c_stock = 40\n",
    "\n",
    "s_deb = 50\n",
    "\n",
    "prod_max = 700\n",
    "\n",
    "stock_max = 900\n",
    "\n",
    "#=\n",
    "    MODÈLE\n",
    "=#\n"
   ]
  },
  {
   "cell_type": "markdown",
   "metadata": {
    "deletable": false,
    "editable": false,
    "run_control": {
     "frozen": true
    }
   },
   "source": [
    "## Exercice 4 :  (issu du cours de Roland Grappe)\n",
    "\n",
    "Une entreprise dispose de deux machines pour produire trois boissons. Les rythmes de production doivent être : \n",
    "* Epin&Drink&reg; : 8 litres par heure, \n",
    "* Epin&Drink&reg;Max&trade; : 9 litres par heure, \n",
    "* Villeta'up&trade; : 5 litres par heure.\n",
    "\n",
    "Pour produire un litre de boisson, chaque machine met le temps suivant, en minutes :\n",
    "\n",
    "|  -  | Machine 1 | Machine 2 |\n",
    "|----|-----------|-----------|\n",
    "| Epin&Drink&reg; | 5 | 6 |\n",
    "| Epin&Drink&reg;Max&trade; | 3 |5|\n",
    "| Villeta'up&trade; | 2 |\n",
    "\n",
    "Les depenses de fabrication sont, par litre produit :\n",
    "\n",
    "|  -  | Machine 1 | Machine 2 |\n",
    "|----|-----------|-----------|\n",
    "| Epin&Drink&reg; | 20 | 26 |\n",
    "| Epin&Drink&reg;Max&trade; | 8 |16|\n",
    "| Villeta'up&trade; | 12 |\n",
    "\n",
    "### Questions\n",
    "\n",
    "1. Formuler le problème qui consiste à répartir les productions sur les deux machines afin de minimiser les dépenses de production.\n",
    "2. Écrire ce problème sous forme algébrique.\n",
    "3. Modifer uniquement les données pour ajouter une troisième machine."
   ]
  },
  {
   "cell_type": "code",
   "execution_count": null,
   "metadata": {
    "collapsed": true
   },
   "outputs": [],
   "source": [
    "using JuMP\n",
    "using GLPK\n",
    "\n",
    "#= \n",
    " DONNÉES\n",
    "=#\n",
    "Boissons = [\"Epin&drink\", \"Epin&drinkMax\", \"Villeta'up\"]\n",
    "Machines = [\"M1\", \"M2\"]\n",
    "\n",
    "temps = [\n",
    "    5 6 ;\n",
    "    3 5 ;\n",
    "    typemax(Int) 2\n",
    "]\n",
    "\n",
    "dépenses = [\n",
    "    20 26;\n",
    "    8 16;\n",
    "    typemax(Int) 12\n",
    "]\n",
    "\n",
    "#=\n",
    "    MODÈLE\n",
    "=#"
   ]
  }
 ],
 "metadata": {
  "@webio": {
   "lastCommId": "5c30e5c656224ea298dcbaec13b71ad5",
   "lastKernelId": "5a743725-3b33-47cf-971c-ed41406d42fa"
  },
  "jupytext": {
   "formats": "ipynb,md"
  },
  "kernelspec": {
   "display_name": "Julia 1.2.0",
   "language": "julia",
   "name": "julia-1.2"
  },
  "language_info": {
   "file_extension": ".jl",
   "mimetype": "application/julia",
   "name": "julia",
   "version": "1.2.0"
  },
  "toc": {
   "base_numbering": 1,
   "nav_menu": {},
   "number_sections": true,
   "sideBar": true,
   "skip_h1_title": true,
   "title_cell": "Table des matières",
   "title_sidebar": "Table des matières",
   "toc_cell": false,
   "toc_position": {},
   "toc_section_display": true,
   "toc_window_display": false
  },
  "varInspector": {
   "cols": {
    "lenName": 16,
    "lenType": 16,
    "lenVar": 40
   },
   "kernels_config": {
    "python": {
     "delete_cmd_postfix": "",
     "delete_cmd_prefix": "del ",
     "library": "var_list.py",
     "varRefreshCmd": "print(var_dic_list())"
    },
    "r": {
     "delete_cmd_postfix": ") ",
     "delete_cmd_prefix": "rm(",
     "library": "var_list.r",
     "varRefreshCmd": "cat(var_dic_list()) "
    }
   },
   "types_to_exclude": [
    "module",
    "function",
    "builtin_function_or_method",
    "instance",
    "_Feature"
   ],
   "window_display": false
  }
 },
 "nbformat": 4,
 "nbformat_minor": 2
}
